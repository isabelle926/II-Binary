{
 "cells": [
  {
   "cell_type": "markdown",
   "metadata": {},
   "source": [
    "**Question 36** of the Collegeboard MC: Iterative binarySearch statement execution (focus: O log n, 2000 versus 2048, binary search), using Jupyter Notebook\n",
    "\n",
    "\n",
    "![image](https://github.com/isabelle926/II-Binary/assets/82348259/14b2aea1-f721-426f-81d8-ce5433d8084d)\n",
    "\n",
    "## Let's Review Some Concepts!\n",
    "\n",
    "What is a binary search?\n",
    "- A search algorithm that works by continuously cutting the array in half until the desired value is found"
   ]
  },
  {
   "cell_type": "markdown",
   "metadata": {},
   "source": [
    "### Simple binary search example"
   ]
  },
  {
   "cell_type": "code",
   "execution_count": 5,
   "metadata": {
    "vscode": {
     "languageId": "java"
    }
   },
   "outputs": [
    {
     "name": "stdout",
     "output_type": "stream",
     "text": [
      "Element found at index 4\n"
     ]
    }
   ],
   "source": [
    "public class BinarySearch {\n",
    "\n",
    "    public static int binarySearch(int[] arr, int target) {\n",
    "        int left = 0;\n",
    "        int right = arr.length - 1;\n",
    "\n",
    "        while (left <= right) {\n",
    "            int mid = left + (right - left) / 2;\n",
    "\n",
    "            if (arr[mid] == target) {\n",
    "                return mid;\n",
    "            }\n",
    "\n",
    "            if (arr[mid] < target) {\n",
    "                left = mid + 1;\n",
    "            }\n",
    "\n",
    "            else {\n",
    "                right = mid - 1;\n",
    "            }\n",
    "        }\n",
    "\n",
    "        return -1;\n",
    "    }\n",
    "\n",
    "    public static void main(String[] args) {\n",
    "        int[] arr = {4, 8, 10, 11, 15, 32, 38, 42, 56, 100};\n",
    "        int target = 15;\n",
    "\n",
    "        int result = binarySearch(arr, target);\n",
    "\n",
    "        if (result == -1) {\n",
    "            System.out.println(\"Element not present in the array\");\n",
    "        } else {\n",
    "            System.out.println(\"Element found at index \" + result);\n",
    "        }\n",
    "    }\n",
    "}\n",
    "\n",
    "BinarySearch.main(null)"
   ]
  },
  {
   "cell_type": "markdown",
   "metadata": {},
   "source": [
    "#### Popcorn hack!\n",
    "\n",
    "Add comments to the algorithm above explaining the process"
   ]
  },
  {
   "cell_type": "markdown",
   "metadata": {},
   "source": [
    "## Answering the Question\n",
    "\n",
    "As we know binary seach reduces the search space by half each time it's ran. Since there are 2,000 elements in the array, that means we can figure out the answer to this question by figuring out how many times the algorithm runs in order to isolate the selected value. We can use the expression 2^x to find the value that is the closest to 2000 without going under. \n",
    "\n",
    "A. 2^2000 = basically infinity \n",
    "B. 2^1000 = 1.071509e+301\n",
    "C. 2^20 = 1048576\n",
    "D. 2^11 = 2048\n",
    "E. 2^1 = 2\n",
    "\n",
    "Since 2048 is the closest number to 2000, that means the D, or 11 is our answer. "
   ]
  },
  {
   "cell_type": "markdown",
   "metadata": {},
   "source": [
    "### Hacks\n",
    "\n",
    "**Problem Statement:**\n",
    "You are given a sorted array of integers. Write a Java program to implement a binary search algorithm to find the index of a given element in the array. If the element is present, return its index; otherwise, return -1.\n",
    "\n",
    "**Use this code**\n",
    "```java\n",
    "public class BinarySearchPractice {\n",
    "    public static int binarySearch(int[] array, int target) {\n",
    "        // Your implementation here\n",
    "    }\n",
    "\n",
    "    public static void main(String[] args) {\n",
    "        int[] sortedArray = {1, 3, 5, 7, 9, 11, 13, 15, 17, 19};\n",
    "        int targetElement = 11;\n",
    "\n",
    "        int result = binarySearch(sortedArray, targetElement);\n",
    "\n",
    "        if (result != -1) {\n",
    "            System.out.println(\"Element \" + targetElement + \" found at index \" + result);\n",
    "        } else {\n",
    "            System.out.println(\"Element \" + targetElement + \" not found in the array\");\n",
    "        }\n",
    "    }\n",
    "}\n",
    "```\n",
    "\n",
    "**Instructions:**\n",
    "1. Implement the `binarySearch` method to perform binary search on the given array.\n",
    "2. Test your implementation by providing a sorted array and a target element in the `main` method.\n",
    "3. Print the result whether the element is found or not along with its index.\n",
    "\n",
    "## Alternate hack:\n",
    "Show how you implemented binary search in a previous project. \n",
    "\n",
    "- You only need to do one of these hacks"
   ]
  }
 ],
 "metadata": {
  "kernelspec": {
   "display_name": "Java",
   "language": "java",
   "name": "java"
  },
  "language_info": {
   "codemirror_mode": "java",
   "file_extension": ".jshell",
   "mimetype": "text/x-java-source",
   "name": "Java",
   "pygments_lexer": "java",
   "version": "20.0.2+9-78"
  },
  "orig_nbformat": 4
 },
 "nbformat": 4,
 "nbformat_minor": 2
}
