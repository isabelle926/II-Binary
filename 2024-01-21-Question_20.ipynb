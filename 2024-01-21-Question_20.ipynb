{
 "cells": [
  {
   "cell_type": "markdown",
   "metadata": {},
   "source": [
    "Question 20 mystery with 1D int array and nested iteration (focus: speed, nested for loops, .length, index, count)\n",
    "\n",
    "\n",
    "![image](https://github.com/isabelle926/II-Binary/assets/82348259/fefc8639-a5f2-43ec-bca3-37ba15004ad9)"
   ]
  },
  {
   "cell_type": "markdown",
   "metadata": {},
   "source": [
    "## Let's Review Some Concepts!\n",
    "\n",
    "Nested iteration refers to the situation where one or more loops are placed inside another loop. This creates a nested or hierarchical structure for iterating over elements in programming. Each iteration of the outer loop triggers the inner loop to execute its complete cycle.\n",
    "\n",
    "Here's a brief explanation:\n",
    "\n",
    "1. **Outer Loop:**\n",
    "   - The outer loop is responsible for controlling the overall flow and structure.\n",
    "   - It iterates over a set of elements or performs a specific action a certain number of times.\n",
    "   - For each iteration of the outer loop, the inner loop is executed in its entirety.\n",
    "\n",
    "2. **Inner Loop:**\n",
    "   - The inner loop is embedded inside the outer loop.\n",
    "   - It performs a set of actions or iterations for each cycle of the outer loop.\n",
    "   - The inner loop can have its own loop variable and control structure.\n",
    "\n",
    "**Example in Java:**\n",
    "```java\n",
    "for (int i = 0; i < 3; i++) {        // Outer loop\n",
    "    for (int j = 0; j < 2; j++) {    // Inner loop\n",
    "        System.out.println(\"Outer loop index: \" + i + \", Inner loop index: \" + j);\n",
    "    }\n",
    "}\n",
    "```\n",
    "\n",
    "In this example, the outer loop runs three times (`i` takes values 0, 1, 2), and for each iteration of the outer loop, the inner loop runs twice (`j` takes values 0, 1). The result is the printing of combinations of the indices from both loops.\n",
    "\n",
    "Nested iteration is commonly used when working with multidimensional arrays, matrices, or when you need to traverse elements in a nested or hierarchical structure. However, it's important to manage nested loops carefully to avoid performance issues, especially with a large number of iterations."
   ]
  },
  {
   "cell_type": "markdown",
   "metadata": {},
   "source": [
    "## Lets Go Over the Code :D"
   ]
  },
  {
   "cell_type": "code",
   "execution_count": null,
   "metadata": {
    "vscode": {
     "languageId": "java"
    }
   },
   "outputs": [],
   "source": [
    "/** precondition: arr.length > 0 */\n",
    "public static int mystery(int[] arr) {\n",
    "    int index = 0;\n",
    "    int count = 0;\n",
    "    int m = -1;\n",
    "\n",
    "    // Outer loop to iterate over each element in the array\n",
    "    for (int outer = 0; outer < arr.length; outer++) {\n",
    "        count = 0;  // Reset the count for each outer iteration\n",
    "\n",
    "        // Inner loop to compare the current element with the rest of the array\n",
    "        for (int inner = outer + 1; inner < arr.length; inner++) {\n",
    "            if (arr[outer] == arr[inner]) {\n",
    "                count++;\n",
    "            }\n",
    "        }\n",
    "\n",
    "        // If count is greater than 0, it means a duplicate is found\n",
    "        if (count > 0) {\n",
    "            m = arr[outer];  // Set m to the value of the duplicate element\n",
    "            index = outer;   // Set index to the index of the first occurrence of the duplicate\n",
    "            break;           // Break out of the outer loop since the first duplicate is found\n",
    "        }\n",
    "    }\n",
    "\n",
    "    return index;  // Return the index of the first occurrence of the duplicate\n",
    "}"
   ]
  },
  {
   "cell_type": "markdown",
   "metadata": {},
   "source": [
    "### Practice Problem:\n",
    "\n",
    "**Problem Statement:**\n",
    "You are given a 1D array representing a sequence of integers. Write a Java program to find and print the sum of all elements in the array.\n",
    "\n",
    "**Code:**\n",
    "```java\n",
    "public class ArraySumPractice {\n",
    "    public static int calculateArraySum(int[] array) {\n",
    "        // Your implementation here\n",
    "    }\n",
    "\n",
    "    public static void main(String[] args) {\n",
    "        int[] exampleArray = {1, 2, 3, 4, 5, 6, 7, 8, 9};\n",
    "\n",
    "        int sum = calculateArraySum(exampleArray);\n",
    "\n",
    "        System.out.println(\"Sum of all elements in the array: \" + sum);\n",
    "    }\n",
    "}\n",
    "```\n",
    "\n",
    "**Instructions:**\n",
    "1. Implement the `calculateArraySum` method to calculate the sum of all elements in the given 1D array.\n",
    "2. Use iteration to traverse through each element in the array.\n",
    "3. Print the sum of all elements in the `main` method.\n",
    "\n",
    "This modification allows you to practice working with a 1D array and iterating through its elements to calculate the sum."
   ]
  }
 ],
 "metadata": {
  "language_info": {
   "name": "python"
  },
  "orig_nbformat": 4
 },
 "nbformat": 4,
 "nbformat_minor": 2
}
